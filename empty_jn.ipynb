{
 "cells": [
  {
   "cell_type": "code",
   "execution_count": null,
   "metadata": {},
   "outputs": [],
   "source": [
    "tra ta ta"
   ]
  }
 ],
 "metadata": {
  "kernelspec": {
   "display_name": "Python 3.9.7 64-bit",
   "language": "python",
   "name": "python3"
  },
  "language_info": {
   "name": "python",
   "version": "3.9.7"
  },
  "orig_nbformat": 4,
  "vscode": {
   "interpreter": {
    "hash": "1e151e3b91b61b885b7d9834a413d9e2ad1edf54dfb53e4ecd348fc7eac9d8b8"
   }
  }
 },
 "nbformat": 4,
 "nbformat_minor": 2
}
